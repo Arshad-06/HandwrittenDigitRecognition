{
 "cells": [
  {
   "cell_type": "code",
   "execution_count": 13,
   "id": "9e8d3cf8",
   "metadata": {},
   "outputs": [],
   "source": [
    "import numpy as np\n",
    "import matplotlib.pyplot as plt\n",
    "plt.style.use('seaborn')"
   ]
  },
  {
   "cell_type": "code",
   "execution_count": 14,
   "id": "5a04370b",
   "metadata": {},
   "outputs": [],
   "source": [
    "x_train = np.array([1.0 , 2.0])\n",
    "y_train = np.array([300.0 , 500.0])"
   ]
  },
  {
   "cell_type": "code",
   "execution_count": 15,
   "id": "bf6375e3",
   "metadata": {},
   "outputs": [],
   "source": [
    "def compute_cost(x,y,w,b):\n",
    "    m = x.shape[0]\n",
    "    cost_sum = 0\n",
    "    for i in range(m):\n",
    "        f_wb = w * x[i] + b\n",
    "        cost = (f_wb - y[i]) ** 2\n",
    "        cost_sum += cost\n",
    "    total_cost = (1/(2 * m)) * cost_sum\n",
    "    return total_cost"
   ]
  },
  {
   "cell_type": "code",
   "execution_count": 18,
   "id": "b4936fc5",
   "metadata": {},
   "outputs": [
    {
     "name": "stdout",
     "output_type": "stream",
     "text": [
      "The cost is : 83308.5\n"
     ]
    }
   ],
   "source": [
    "w = 2\n",
    "b = 1\n",
    "cost = compute_cost(x_train,y_train,w,b)\n",
    "print(f\"The cost is : {cost}\")"
   ]
  }
 ],
 "metadata": {
  "kernelspec": {
   "display_name": "Python 3 (ipykernel)",
   "language": "python",
   "name": "python3"
  },
  "language_info": {
   "codemirror_mode": {
    "name": "ipython",
    "version": 3
   },
   "file_extension": ".py",
   "mimetype": "text/x-python",
   "name": "python",
   "nbconvert_exporter": "python",
   "pygments_lexer": "ipython3",
   "version": "3.9.13"
  }
 },
 "nbformat": 4,
 "nbformat_minor": 5
}
